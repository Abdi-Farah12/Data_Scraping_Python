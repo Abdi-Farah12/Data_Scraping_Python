{
 "cells": [
  {
   "cell_type": "markdown",
   "id": "963426a8",
   "metadata": {},
   "source": [
    "## Search the Twitter API"
   ]
  },
  {
   "cell_type": "markdown",
   "id": "8615e7ee",
   "metadata": {},
   "source": [
    "\n",
    "\n",
    "We will investigate Bitcoin in a litlle more detail, particularly in terms of future growth of the currency and its use in the United States. Previously we accessed Bitcoin through the Coingecko API. Now we will turn our attentionto Twitter, particulalry tweets on Bitcoin and cryptocurrency in general.\n",
    "We want to check if Bitcoin is trending in New York, Los Angeles, Sydney, Auckland and Dubai.\n",
    "\n"
   ]
  },
  {
   "cell_type": "markdown",
   "id": "eb962e25",
   "metadata": {},
   "source": [
    "## 1. Prepare your workstation"
   ]
  },
  {
   "cell_type": "code",
   "execution_count": null,
   "id": "fde628ad",
   "metadata": {},
   "outputs": [],
   "source": [
    "# copy the YAML file and your Twitter keys over to this Jupyter Notebook before you start to work\n",
    "import yaml\n",
    "from yaml.loader import SafeLoader\n",
    "from twitter import *\n",
    "\n",
    "# import the yaml file - remember to specify the whole path\n",
    "twitter_creds = yaml.safe_load(open('twitter.yaml', 'r').read())\n",
    "\n",
    "# pass your twitter credentials\n",
    "twitter_api = Twitter(auth=OAuth(twitter_creds['access_token'],\n",
    "                                 twitter_creds['access_token_secret'], \n",
    "                                 twitter_creds['api_key'],\n",
    "                                 twitter_creds['api_secret_key'] ))"
   ]
  },
  {
   "cell_type": "code",
   "execution_count": null,
   "id": "abdc9de9",
   "metadata": {},
   "outputs": [],
   "source": [
    "# see if you are connected\n",
    "print(twitter_api)"
   ]
  },
  {
   "cell_type": "code",
   "execution_count": null,
   "id": "74c8716e",
   "metadata": {},
   "outputs": [],
   "source": [
    "# run a test with #python\n",
    "python_tweets = twitter_api.search.tweets(q=\"#python\")\n",
    "\n",
    "# view output\n",
    "print(python_tweets)"
   ]
  },
  {
   "cell_type": "markdown",
   "id": "c4a538ea",
   "metadata": {},
   "source": [
    "## 2. Identify New York and London"
   ]
  },
  {
   "cell_type": "code",
   "execution_count": null,
   "id": "998dcb48",
   "metadata": {},
   "outputs": [],
   "source": [
    "# determine worldwide trends\n",
    "trends_worldwide = twitter_api.trends.available()\n",
    "\n",
    "# how many trends available\n",
    "print(len(trends_worldwide))\n",
    "\n",
    "# example of trends_worldwide\n",
    "trends_worldwide[0]"
   ]
  },
  {
   "cell_type": "markdown",
   "id": "7b187b02",
   "metadata": {},
   "source": [
    "## New York"
   ]
  },
  {
   "cell_type": "code",
   "execution_count": null,
   "id": "7e03f49d",
   "metadata": {},
   "outputs": [],
   "source": [
    "# find New York\n",
    "our_city = 'New York'\n",
    "\n",
    "# create variable\n",
    "list_of_names_our_city = [_ for _ in trends_worldwide if _['name'] == our_city]\n",
    "\n",
    "# view output\n",
    "print(len(list_of_names_our_city))\n",
    "\n",
    "# use index to find New York\n",
    "list_of_names_our_city[0]\n",
    "\n",
    "# list of where on earth identifies (woeid)\n",
    "list_of_names_our_city[0]['woeid']"
   ]
  },
  {
   "cell_type": "markdown",
   "id": "c8e5e2de",
   "metadata": {},
   "source": [
    "## London"
   ]
  },
  {
   "cell_type": "code",
   "execution_count": null,
   "id": "b812b2cd",
   "metadata": {},
   "outputs": [],
   "source": [
    "# finLondon\n",
    "our_city_2 = 'London'\n",
    "\n",
    "# create variable\n",
    "list_of_names_our_city_2 = [_ for _ in trends_worldwide if _['name'] == our_city_2]\n",
    "\n",
    "# view output\n",
    "print(len(list_of_names_our_city_2))\n",
    "\n",
    "# use index to find London\n",
    "list_of_names_our_city_2[0]\n",
    "\n",
    "# list of where on earth identifies (woeid)\n",
    "list_of_names_our_city_2[0]['woeid']"
   ]
  },
  {
   "cell_type": "markdown",
   "id": "53503590",
   "metadata": {},
   "source": [
    "## 3. Common trends"
   ]
  },
  {
   "cell_type": "markdown",
   "id": "94b62597",
   "metadata": {},
   "source": [
    "## New York"
   ]
  },
  {
   "cell_type": "code",
   "execution_count": null,
   "id": "de2a1667",
   "metadata": {},
   "outputs": [],
   "source": [
    "# look at trends in New York\n",
    "our_city_trends = twitter_api.trends.place(_id = list_of_names_our_city[0]['woeid'])\n",
    "\n",
    "# view output\n",
    "our_city_trends"
   ]
  },
  {
   "cell_type": "code",
   "execution_count": null,
   "id": "fdc25975",
   "metadata": {},
   "outputs": [],
   "source": [
    "# look at output as a DataFrame\n",
    "# import Pandas\n",
    "import pandas as pd\n",
    "\n",
    "# create DataFrame\n",
    "our_city_trends_pd = pd.DataFrame(our_city_trends[0]['trends'])\n",
    "\n",
    "# view DataFrame\n",
    "our_city_trends_pd"
   ]
  },
  {
   "cell_type": "code",
   "execution_count": null,
   "id": "97d6a9d4",
   "metadata": {},
   "outputs": [],
   "source": [
    "# narrow list down to 50 000 tweets\n",
    "our_city_trends_over50k_pd = our_city_trends_pd[our_city_trends_pd['tweet_volume'] > 50000]\\\n",
    ".sort_values('tweet_volume', ascending=False)\n",
    "\n",
    "# view the output\n",
    "print(our_city_trends_over50k_pd.shape)\n",
    "our_city_trends_over50k_pd"
   ]
  },
  {
   "cell_type": "code",
   "execution_count": null,
   "id": "75f7f04c",
   "metadata": {},
   "outputs": [],
   "source": [
    "# save output as CSV file\n",
    "our_city_trends_over50k_pd.to_csv('NY_our_city_trends_over50k.csv', index=False)"
   ]
  },
  {
   "cell_type": "markdown",
   "id": "5023d317",
   "metadata": {},
   "source": [
    "## London"
   ]
  },
  {
   "cell_type": "code",
   "execution_count": null,
   "id": "a173185a",
   "metadata": {},
   "outputs": [],
   "source": [
    "# look at trends in London\n",
    "our_city_trends_2 = twitter_api.trends.place(_id = list_of_names_our_city_2[0]['woeid'])\n",
    "\n",
    "# view output\n",
    "our_city_trends_2"
   ]
  },
  {
   "cell_type": "code",
   "execution_count": null,
   "id": "052928e8",
   "metadata": {},
   "outputs": [],
   "source": [
    "# look at output as a DataFrame\n",
    "# import Pandas\n",
    "import pandas as pd\n",
    "\n",
    "# create DataFrame\n",
    "our_city_trends_2_pd = pd.DataFrame(our_city_trends_2[0]['trends'])\n",
    "\n",
    "# view DataFrame\n",
    "our_city_trends_2_pd"
   ]
  },
  {
   "cell_type": "code",
   "execution_count": null,
   "id": "02262511",
   "metadata": {},
   "outputs": [],
   "source": [
    "# narrow list down to 50 000 tweets\n",
    "our_city_trends_2_over50k_pd = our_city_trends_2_pd[our_city_trends_2_pd['tweet_volume'] > 50000]\\\n",
    ".sort_values('tweet_volume', ascending=False)\n",
    "\n",
    "# view the output\n",
    "print(our_city_trends_2_over50k_pd.shape)\n",
    "our_city_trends_2_over50k_pd"
   ]
  },
  {
   "cell_type": "code",
   "execution_count": null,
   "id": "106f5751",
   "metadata": {},
   "outputs": [],
   "source": [
    "# save output as CSV file\n",
    "our_city_trends_2_over50k_pd.to_csv('_London_our_city_trends_2_over50k.csv', index=False)"
   ]
  },
  {
   "cell_type": "markdown",
   "id": "50b40505",
   "metadata": {},
   "source": [
    "### compare cities"
   ]
  },
  {
   "cell_type": "code",
   "execution_count": null,
   "id": "67e27f92",
   "metadata": {},
   "outputs": [],
   "source": [
    "# find New York\n",
    "our_city = 'New York'\n",
    "\n",
    "# create variable\n",
    "list_of_names_our_city = [_ for _ in trends_worldwide if _['name'] == our_city]\n",
    "\n",
    "# viewe output\n",
    "list_of_names_our_city[0]['woeid']"
   ]
  },
  {
   "cell_type": "code",
   "execution_count": null,
   "id": "69c4e836",
   "metadata": {},
   "outputs": [],
   "source": [
    "# find London\n",
    "our_city_2 = 'London'\n",
    "\n",
    "# create variable\n",
    "list_of_names_our_city_2 = [_ for _ in trends_worldwide if _['name'] == our_city_2]\n",
    "\n",
    "# viewe output\n",
    "list_of_names_our_city_2[0]['woeid']"
   ]
  },
  {
   "cell_type": "code",
   "execution_count": null,
   "id": "2928e06a",
   "metadata": {},
   "outputs": [],
   "source": [
    "# search for each city\n",
    "# import json\n",
    "import json\n",
    "\n",
    "# search for New York\n",
    "new_york_trends = twitter_api.trends.place(_id=2459115)\n",
    "\n",
    "# view JSON output\n",
    "print (json.dumps(new_york_trends, indent=4))"
   ]
  },
  {
   "cell_type": "code",
   "execution_count": null,
   "id": "02c12c07",
   "metadata": {},
   "outputs": [],
   "source": [
    "# search for each city\n",
    "# import json\n",
    "import json\n",
    "\n",
    "# search for Londons\n",
    "london_trends = twitter_api.trends.place(_id=44418)\n",
    "\n",
    "# view JSON output\n",
    "print (json.dumps(london_trends, indent=4))"
   ]
  },
  {
   "cell_type": "code",
   "execution_count": null,
   "id": "ea6ff27b",
   "metadata": {},
   "outputs": [],
   "source": [
    "# find common topics\n",
    "new_york_trends_list = [trend['name'] for trend in new_york_trends[0]['trends']]\n",
    "\n",
    "# view output\n",
    "print(new_york_trends_list)"
   ]
  },
  {
   "cell_type": "code",
   "execution_count": null,
   "id": "baa09b62",
   "metadata": {},
   "outputs": [],
   "source": [
    "# find common topics\n",
    "london_trends_list = [trend['name'] for trend in london_trends[0]['trends']]\n",
    "\n",
    "# view output\n",
    "print(london_trends_list)"
   ]
  },
  {
   "cell_type": "code",
   "execution_count": null,
   "id": "626ed5d9",
   "metadata": {},
   "outputs": [],
   "source": [
    "# find trends between cities\n",
    "new_york_trends_set = set(new_york_trends_list)\n",
    "london_trends_set = set(london_trends_list)\n",
    "\n",
    "# set variable\n",
    "common_trends = new_york_trends_set.intersection(london_trends_set)\n",
    "\n",
    "# view output\n",
    "print(common_trends)"
   ]
  },
  {
   "cell_type": "markdown",
   "id": "bb9f0d33",
   "metadata": {},
   "source": [
    "## Search for #Bitcoin"
   ]
  },
  {
   "cell_type": "code",
   "execution_count": null,
   "id": "898d5bdc",
   "metadata": {},
   "outputs": [],
   "source": [
    "# run a test with #Bitcoin\n",
    "bitcoin_tweets = twitter_api.search.tweets(q=\"#Bitcoin\")\n",
    "\n",
    "# view JSON output\n",
    "print(json.dumps(bitcoin_tweets, indent=4))"
   ]
  }
 ],
 "metadata": {
  "kernelspec": {
   "display_name": "Python 3 (ipykernel)",
   "language": "python",
   "name": "python3"
  },
  "language_info": {
   "codemirror_mode": {
    "name": "ipython",
    "version": 3
   },
   "file_extension": ".py",
   "mimetype": "text/x-python",
   "name": "python",
   "nbconvert_exporter": "python",
   "pygments_lexer": "ipython3",
   "version": "3.9.7"
  }
 },
 "nbformat": 4,
 "nbformat_minor": 5
}
